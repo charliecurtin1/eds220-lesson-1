{
 "cells": [
  {
   "cell_type": "markdown",
   "id": "e1c34129-9d69-4616-b82a-3bfbd9b3a04c",
   "metadata": {},
   "source": [
    "# Objectives\n",
    "\n",
    "Review core `pandas` objects: `pandas.Series` and `pandas.DataFrame`\n",
    "\n",
    "# `pandas`\n",
    "- Python package to wrangle and analyze tabular data\n",
    "- built on top of NumPy\n",
    "- core tool for data analysis in Python"
   ]
  },
  {
   "cell_type": "code",
   "execution_count": 2,
   "id": "0432032a-1995-4cf4-a147-94379cac70b4",
   "metadata": {
    "tags": []
   },
   "outputs": [],
   "source": [
    "import pandas as pd\n",
    "import numpy as np"
   ]
  },
  {
   "cell_type": "markdown",
   "id": "662ea737-aebb-4bbc-b26b-270e894869db",
   "metadata": {},
   "source": [
    "# Series\n",
    "\n",
    "A `pandas.Series`:\n",
    "\n",
    "- core data structure in `pandas`\n",
    "- a one-dimensional array of *indexed* data\n",
    "- will be the columns of the `pandas.DataFrame`\n",
    "\n",
    "# Creating a pandas Series\n",
    "\n",
    "Several ways to do it. For now, we'll do it this way:\n",
    "\n",
    "```\n",
    "s = pd.Series(data, index=index)\n",
    "```\n",
    "\n",
    "- `data`= numpy array (or list of objects that can be concerted to NumPy types\n",
    "- `index`= a list of indices of same length as the data"
   ]
  },
  {
   "cell_type": "code",
   "execution_count": 3,
   "id": "64b3b714-241b-4b24-b9be-4b0197e5cd7c",
   "metadata": {
    "tags": []
   },
   "outputs": [
    {
     "data": {
      "text/plain": [
       "array([0, 1, 2])"
      ]
     },
     "execution_count": 3,
     "metadata": {},
     "output_type": "execute_result"
    }
   ],
   "source": [
    "# Ex: a pandas series from a numpy array\n",
    "\n",
    "# np.arrange() function constructs an array of consecutive integers\n",
    "np.arange(3)"
   ]
  },
  {
   "cell_type": "code",
   "execution_count": 6,
   "id": "462b76b0-95e7-4767-9f87-a017c1008af6",
   "metadata": {
    "tags": []
   },
   "outputs": [
    {
     "data": {
      "text/plain": [
       "a    0\n",
       "b    1\n",
       "c    2\n",
       "dtype: int64"
      ]
     },
     "execution_count": 6,
     "metadata": {},
     "output_type": "execute_result"
    }
   ],
   "source": [
    "# we can use this to create a pandas Series\n",
    "pd.Series(np.arange(3), index=['a','b','c'])"
   ]
  },
  {
   "cell_type": "markdown",
   "id": "14ee64fc-f746-4dbb-8129-3aa5b7239847",
   "metadata": {},
   "source": [
    "What kind of parameter is `index`? \n",
    "\n",
    "A: it's optional, there is a default value to it. If it's not specified, the default is to start the index at 0"
   ]
  },
  {
   "cell_type": "code",
   "execution_count": 7,
   "id": "2af33bb9-0735-45ad-86d6-3a4da47c13ce",
   "metadata": {
    "tags": []
   },
   "outputs": [
    {
     "data": {
      "text/plain": [
       "0    EDS220\n",
       "1    EDS222\n",
       "2    EDS242\n",
       "3    EDS223\n",
       "dtype: object"
      ]
     },
     "execution_count": 7,
     "metadata": {},
     "output_type": "execute_result"
    }
   ],
   "source": [
    "# create a series from a list of strings with default index\n",
    "pd.Series(['EDS220', 'EDS222', 'EDS242', 'EDS223'])"
   ]
  },
  {
   "cell_type": "markdown",
   "id": "b3e20e4e-bc98-499a-889b-a05b2edd0b1a",
   "metadata": {},
   "source": [
    "# Operations on series\n",
    "\n",
    "Arithmetic operations work on series and also most Numpy function\n",
    "\n",
    "Example:"
   ]
  },
  {
   "cell_type": "code",
   "execution_count": 10,
   "id": "923c4db5-fa89-497c-93b1-7449409fb71d",
   "metadata": {
    "tags": []
   },
   "outputs": [
    {
     "name": "stdout",
     "output_type": "stream",
     "text": [
      "Andrea      90\n",
      "Beth        73\n",
      "Carolina    65\n",
      "dtype: int64 \n",
      "\n",
      "Andrea      9.0\n",
      "Beth        7.3\n",
      "Carolina    6.5\n",
      "dtype: float64\n"
     ]
    }
   ],
   "source": [
    "# define a series\n",
    "s = pd.Series( [90, 73, 65], index=['Andrea', 'Beth', 'Carolina'])\n",
    "print(s, '\\n')\n",
    "\n",
    "# divide each element in the series by 10\n",
    "print(s/10)"
   ]
  },
  {
   "cell_type": "markdown",
   "id": "980f099d-6d3e-4910-b468-84181dac0e14",
   "metadata": {},
   "source": [
    "Example: create a new series with `True`/`False` values indicating whether the lements in the series satisfy a condition or not."
   ]
  },
  {
   "cell_type": "code",
   "execution_count": 11,
   "id": "5495874f-e5c7-4e95-8f21-f066ac7afa4b",
   "metadata": {
    "tags": []
   },
   "outputs": [
    {
     "data": {
      "text/plain": [
       "Andrea       True\n",
       "Beth         True\n",
       "Carolina    False\n",
       "dtype: bool"
      ]
     },
     "execution_count": 11,
     "metadata": {},
     "output_type": "execute_result"
    }
   ],
   "source": [
    "# evaluate a condition on the series\n",
    "s>70"
   ]
  },
  {
   "cell_type": "markdown",
   "id": "6416740b-9d7a-41ff-bce3-a96b698ff069",
   "metadata": {},
   "source": [
    "Using conditions on series is key to select data from dataframes."
   ]
  },
  {
   "cell_type": "markdown",
   "id": "a4e3de0e-c8a3-4f98-bfd3-8937f4c4ce95",
   "metadata": {},
   "source": [
    "## Attributes and Methods\n",
    "\n",
    "Two examples about identifying missing values\n",
    "- missing values in `pandas` are represent by `np.NaN` (not a number)\n",
    "- `NaN` is a type of float (decimal number) in numpy"
   ]
  },
  {
   "cell_type": "code",
   "execution_count": 13,
   "id": "11e39c16-16c3-4b11-98d0-95a98dffc296",
   "metadata": {
    "tags": []
   },
   "outputs": [
    {
     "data": {
      "text/plain": [
       "nan"
      ]
     },
     "execution_count": 13,
     "metadata": {},
     "output_type": "execute_result"
    }
   ],
   "source": [
    "np.NaN"
   ]
  },
  {
   "cell_type": "code",
   "execution_count": 14,
   "id": "c6996ca1-f36f-4c02-9228-bb03a3f391a6",
   "metadata": {
    "tags": []
   },
   "outputs": [
    {
     "data": {
      "text/plain": [
       "float"
      ]
     },
     "execution_count": 14,
     "metadata": {},
     "output_type": "execute_result"
    }
   ],
   "source": [
    "type(np.NaN)"
   ]
  },
  {
   "cell_type": "code",
   "execution_count": 16,
   "id": "c3df2066-ac4d-4bc4-95c9-1c79106c0aaf",
   "metadata": {
    "tags": []
   },
   "outputs": [
    {
     "data": {
      "text/plain": [
       "0    1.0\n",
       "1    2.0\n",
       "2    NaN\n",
       "3    4.0\n",
       "4    NaN\n",
       "dtype: float64"
      ]
     },
     "execution_count": 16,
     "metadata": {},
     "output_type": "execute_result"
    }
   ],
   "source": [
    "# create a series with NA values in it\n",
    "s = pd.Series( [1, 2, np.NAN, 4, np.NAN] )\n",
    "s"
   ]
  },
  {
   "cell_type": "markdown",
   "id": "bff9db55-3282-4ad6-89b4-aa5b0926d39e",
   "metadata": {},
   "source": [
    "`hasnans` is an attribute of a pandas series, returns `True` if there are any NaNs"
   ]
  },
  {
   "cell_type": "code",
   "execution_count": 17,
   "id": "965793c7-1c68-4c77-9d63-1f6e463113fc",
   "metadata": {
    "tags": []
   },
   "outputs": [
    {
     "data": {
      "text/plain": [
       "True"
      ]
     },
     "execution_count": 17,
     "metadata": {},
     "output_type": "execute_result"
    }
   ],
   "source": [
    "# check if series has NAs\n",
    "s.hasnans"
   ]
  },
  {
   "cell_type": "markdown",
   "id": "97668da6-dfff-48b4-b102-90436b09a49a",
   "metadata": {},
   "source": [
    "`isna()` = a method of a series, returns a series indicating which elements are NAs"
   ]
  },
  {
   "cell_type": "code",
   "execution_count": 18,
   "id": "eda591b1-80d0-4669-902f-7640e99b6087",
   "metadata": {
    "tags": []
   },
   "outputs": [
    {
     "data": {
      "text/plain": [
       "0    False\n",
       "1    False\n",
       "2     True\n",
       "3    False\n",
       "4     True\n",
       "dtype: bool"
      ]
     },
     "execution_count": 18,
     "metadata": {},
     "output_type": "execute_result"
    }
   ],
   "source": [
    "s.isna()"
   ]
  },
  {
   "cell_type": "markdown",
   "id": "b29f0a5e-ef5a-4a38-9eac-ab0b457ea996",
   "metadata": {},
   "source": [
    "`bool` values are just `True` or `False`, boolean values\n",
    "\n",
    "# Dataframes\n",
    "\n",
    "`pandas.DataFrame`:\n",
    "- most used object in `pandas`\n",
    "- represents tabular data (like a spreadsheet)\n",
    "- each column is a `pandas.Series`\n",
    "\n",
    "# creating a `pandas.DataFrame`\n",
    "\n",
    "Can create using dictionaries:\n",
    "\n",
    "```\n",
    "{key1 : value1,\n",
    " key2 : value2\n",
    "}\n",
    "```\n",
    "\n",
    "Think of a `pd.DataFrame` as a dictionary where\n",
    "- keys = column names\n",
    "- values = column values"
   ]
  },
  {
   "cell_type": "code",
   "execution_count": 19,
   "id": "d5f5a354-bc69-411c-b5bd-fa4b3d9c02a9",
   "metadata": {
    "tags": []
   },
   "outputs": [
    {
     "data": {
      "text/plain": [
       "{'col_name_1': array([0, 1, 2]), 'col_name_2': [3.1, 4, 7]}"
      ]
     },
     "execution_count": 19,
     "metadata": {},
     "output_type": "execute_result"
    }
   ],
   "source": [
    "# initialize the dictionary with columns' data\n",
    "d = {'col_name_1' : np.arange(3),\n",
    "     'col_name_2' : [3.1, 4, 7]\n",
    "    }\n",
    "d"
   ]
  },
  {
   "cell_type": "code",
   "execution_count": 24,
   "id": "04b8ac29-2862-4be0-b2d9-aed7e0d11df4",
   "metadata": {
    "tags": []
   },
   "outputs": [
    {
     "data": {
      "text/html": [
       "<div>\n",
       "<style scoped>\n",
       "    .dataframe tbody tr th:only-of-type {\n",
       "        vertical-align: middle;\n",
       "    }\n",
       "\n",
       "    .dataframe tbody tr th {\n",
       "        vertical-align: top;\n",
       "    }\n",
       "\n",
       "    .dataframe thead th {\n",
       "        text-align: right;\n",
       "    }\n",
       "</style>\n",
       "<table border=\"1\" class=\"dataframe\">\n",
       "  <thead>\n",
       "    <tr style=\"text-align: right;\">\n",
       "      <th></th>\n",
       "      <th>col_name_1</th>\n",
       "      <th>col_name_2</th>\n",
       "    </tr>\n",
       "  </thead>\n",
       "  <tbody>\n",
       "    <tr>\n",
       "      <th>0</th>\n",
       "      <td>0</td>\n",
       "      <td>3.1</td>\n",
       "    </tr>\n",
       "    <tr>\n",
       "      <th>1</th>\n",
       "      <td>1</td>\n",
       "      <td>4.0</td>\n",
       "    </tr>\n",
       "    <tr>\n",
       "      <th>2</th>\n",
       "      <td>2</td>\n",
       "      <td>7.0</td>\n",
       "    </tr>\n",
       "  </tbody>\n",
       "</table>\n",
       "</div>"
      ],
      "text/plain": [
       "   col_name_1  col_name_2\n",
       "0           0         3.1\n",
       "1           1         4.0\n",
       "2           2         7.0"
      ]
     },
     "execution_count": 24,
     "metadata": {},
     "output_type": "execute_result"
    }
   ],
   "source": [
    "# create a dataframe\n",
    "df = pd.DataFrame(d)\n",
    "df"
   ]
  },
  {
   "cell_type": "markdown",
   "id": "05fc35a8-0c7c-484f-a810-45e9902d3bc4",
   "metadata": {},
   "source": [
    "# In-place operations\n",
    "\n",
    "Let's rename the dataframe's columns. We can use a dataframe method `rename`. \n",
    "`rename` takes in a dictionary as an input:\n",
    "\n",
    "```\n",
    "{ 'col1_old_name' : 'col1_new_name',\n",
    "  'col2_old_name' : 'col2_new_name'\n",
    "}\n",
    "```"
   ]
  },
  {
   "cell_type": "code",
   "execution_count": 25,
   "id": "4b571fd1-2668-4886-9e71-b41c0e959e5f",
   "metadata": {
    "tags": []
   },
   "outputs": [
    {
     "data": {
      "text/html": [
       "<div>\n",
       "<style scoped>\n",
       "    .dataframe tbody tr th:only-of-type {\n",
       "        vertical-align: middle;\n",
       "    }\n",
       "\n",
       "    .dataframe tbody tr th {\n",
       "        vertical-align: top;\n",
       "    }\n",
       "\n",
       "    .dataframe thead th {\n",
       "        text-align: right;\n",
       "    }\n",
       "</style>\n",
       "<table border=\"1\" class=\"dataframe\">\n",
       "  <thead>\n",
       "    <tr style=\"text-align: right;\">\n",
       "      <th></th>\n",
       "      <th>col1</th>\n",
       "      <th>col2</th>\n",
       "    </tr>\n",
       "  </thead>\n",
       "  <tbody>\n",
       "    <tr>\n",
       "      <th>0</th>\n",
       "      <td>0</td>\n",
       "      <td>3.1</td>\n",
       "    </tr>\n",
       "    <tr>\n",
       "      <th>1</th>\n",
       "      <td>1</td>\n",
       "      <td>4.0</td>\n",
       "    </tr>\n",
       "    <tr>\n",
       "      <th>2</th>\n",
       "      <td>2</td>\n",
       "      <td>7.0</td>\n",
       "    </tr>\n",
       "  </tbody>\n",
       "</table>\n",
       "</div>"
      ],
      "text/plain": [
       "   col1  col2\n",
       "0     0   3.1\n",
       "1     1   4.0\n",
       "2     2   7.0"
      ]
     },
     "execution_count": 25,
     "metadata": {},
     "output_type": "execute_result"
    }
   ],
   "source": [
    "# define new column names\n",
    "col_names = { 'col_name_1' : 'col1',\n",
    "              'col_name_2' : 'col2'\n",
    "            }\n",
    "# rename using rename\n",
    "df.rename(columns = col_names)\n"
   ]
  },
  {
   "cell_type": "code",
   "execution_count": 26,
   "id": "9f004b73-591b-4556-9867-40f0af5d0237",
   "metadata": {
    "tags": []
   },
   "outputs": [
    {
     "data": {
      "text/html": [
       "<div>\n",
       "<style scoped>\n",
       "    .dataframe tbody tr th:only-of-type {\n",
       "        vertical-align: middle;\n",
       "    }\n",
       "\n",
       "    .dataframe tbody tr th {\n",
       "        vertical-align: top;\n",
       "    }\n",
       "\n",
       "    .dataframe thead th {\n",
       "        text-align: right;\n",
       "    }\n",
       "</style>\n",
       "<table border=\"1\" class=\"dataframe\">\n",
       "  <thead>\n",
       "    <tr style=\"text-align: right;\">\n",
       "      <th></th>\n",
       "      <th>col_name_1</th>\n",
       "      <th>col_name_2</th>\n",
       "    </tr>\n",
       "  </thead>\n",
       "  <tbody>\n",
       "    <tr>\n",
       "      <th>0</th>\n",
       "      <td>0</td>\n",
       "      <td>3.1</td>\n",
       "    </tr>\n",
       "    <tr>\n",
       "      <th>1</th>\n",
       "      <td>1</td>\n",
       "      <td>4.0</td>\n",
       "    </tr>\n",
       "    <tr>\n",
       "      <th>2</th>\n",
       "      <td>2</td>\n",
       "      <td>7.0</td>\n",
       "    </tr>\n",
       "  </tbody>\n",
       "</table>\n",
       "</div>"
      ],
      "text/plain": [
       "   col_name_1  col_name_2\n",
       "0           0         3.1\n",
       "1           1         4.0\n",
       "2           2         7.0"
      ]
     },
     "execution_count": 26,
     "metadata": {},
     "output_type": "execute_result"
    }
   ],
   "source": [
    "# look at a dataframe, notice nothing has changed\n",
    "df"
   ]
  },
  {
   "cell_type": "markdown",
   "id": "32fb731c-aa29-4801-82c2-41d971aa7897",
   "metadata": {},
   "source": [
    "`df.rename()` doesn't change the names inplace. It creates a new object as an output. \n",
    "\n",
    "Assign output back to the dataframe to actually change it."
   ]
  },
  {
   "cell_type": "code",
   "execution_count": 27,
   "id": "74fdc8a3-4253-4b7c-b502-de271ebbdd59",
   "metadata": {
    "tags": []
   },
   "outputs": [],
   "source": [
    "# assign output back to the dataframe \n",
    "df = df.rename(columns = col_names)"
   ]
  },
  {
   "cell_type": "code",
   "execution_count": 28,
   "id": "26d7e59d-4f69-4635-b900-d39f520092e3",
   "metadata": {
    "tags": []
   },
   "outputs": [
    {
     "data": {
      "text/html": [
       "<div>\n",
       "<style scoped>\n",
       "    .dataframe tbody tr th:only-of-type {\n",
       "        vertical-align: middle;\n",
       "    }\n",
       "\n",
       "    .dataframe tbody tr th {\n",
       "        vertical-align: top;\n",
       "    }\n",
       "\n",
       "    .dataframe thead th {\n",
       "        text-align: right;\n",
       "    }\n",
       "</style>\n",
       "<table border=\"1\" class=\"dataframe\">\n",
       "  <thead>\n",
       "    <tr style=\"text-align: right;\">\n",
       "      <th></th>\n",
       "      <th>col1</th>\n",
       "      <th>col2</th>\n",
       "    </tr>\n",
       "  </thead>\n",
       "  <tbody>\n",
       "    <tr>\n",
       "      <th>0</th>\n",
       "      <td>0</td>\n",
       "      <td>3.1</td>\n",
       "    </tr>\n",
       "    <tr>\n",
       "      <th>1</th>\n",
       "      <td>1</td>\n",
       "      <td>4.0</td>\n",
       "    </tr>\n",
       "    <tr>\n",
       "      <th>2</th>\n",
       "      <td>2</td>\n",
       "      <td>7.0</td>\n",
       "    </tr>\n",
       "  </tbody>\n",
       "</table>\n",
       "</div>"
      ],
      "text/plain": [
       "   col1  col2\n",
       "0     0   3.1\n",
       "1     1   4.0\n",
       "2     2   7.0"
      ]
     },
     "execution_count": 28,
     "metadata": {},
     "output_type": "execute_result"
    }
   ],
   "source": [
    "df"
   ]
  },
  {
   "cell_type": "markdown",
   "id": "43f3876e-e953-433a-8b47-dea464adae85",
   "metadata": {},
   "source": [
    "`rename` takes an inplace argument, which defaults to `False`. It's always safer to reassign rather than use this argument"
   ]
  },
  {
   "cell_type": "code",
   "execution_count": null,
   "id": "93fc80ef-0355-4bcd-b89c-62a3271c3cd1",
   "metadata": {},
   "outputs": [],
   "source": []
  }
 ],
 "metadata": {
  "kernelspec": {
   "display_name": "Anaconda 3 (Base)",
   "language": "python",
   "name": "base"
  },
  "language_info": {
   "codemirror_mode": {
    "name": "ipython",
    "version": 3
   },
   "file_extension": ".py",
   "mimetype": "text/x-python",
   "name": "python",
   "nbconvert_exporter": "python",
   "pygments_lexer": "ipython3",
   "version": "3.9.13"
  }
 },
 "nbformat": 4,
 "nbformat_minor": 5
}
