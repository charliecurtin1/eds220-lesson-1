{
 "cells": [
  {
   "cell_type": "markdown",
   "id": "eec84d85-a12a-4ded-867e-b850c21fc817",
   "metadata": {},
   "source": [
    "# `numpy\n",
    "- core package for numerical computing in Python\n",
    "- many packages built on top of numpy\n",
    "- `numpy` optimized for processing, makes efficient use of memory, moreso than base Python and works more quickly"
   ]
  },
  {
   "cell_type": "code",
   "execution_count": 1,
   "id": "7c12efed-f023-44ec-a78a-3a3a31a5d924",
   "metadata": {
    "tags": []
   },
   "outputs": [],
   "source": [
    "import numpy as np"
   ]
  },
  {
   "cell_type": "markdown",
   "id": "538afca8-3ed6-4934-b11c-e197d67fca4c",
   "metadata": {},
   "source": [
    "# Variables\n",
    "Think about variables as a name we assign to a particular object in Python"
   ]
  },
  {
   "cell_type": "code",
   "execution_count": 2,
   "id": "6bb1db21-7e6d-4562-ac1a-e8bde474d3f9",
   "metadata": {
    "tags": []
   },
   "outputs": [],
   "source": [
    "# assign a small array to a variable\n",
    "a = np.array( [ [1,1,2], [3,5,8] ] )"
   ]
  },
  {
   "cell_type": "markdown",
   "id": "05d918a1-6089-4084-bb7f-98a917592eb9",
   "metadata": {},
   "source": [
    "When we run the cell, the variable and its value is stored. You can see the value in two ways:"
   ]
  },
  {
   "cell_type": "code",
   "execution_count": 3,
   "id": "07c93fd1-c0e0-4add-96bf-43f9fc8723cc",
   "metadata": {
    "tags": []
   },
   "outputs": [
    {
     "data": {
      "text/plain": [
       "array([[1, 1, 2],\n",
       "       [3, 5, 8]])"
      ]
     },
     "execution_count": 3,
     "metadata": {},
     "output_type": "execute_result"
    }
   ],
   "source": [
    "a"
   ]
  },
  {
   "cell_type": "code",
   "execution_count": 4,
   "id": "9d1db882-37d8-485d-aeff-6934429b39bb",
   "metadata": {
    "tags": []
   },
   "outputs": [
    {
     "name": "stdout",
     "output_type": "stream",
     "text": [
      "[[1 1 2]\n",
      " [3 5 8]]\n"
     ]
    }
   ],
   "source": [
    "print(a)"
   ]
  },
  {
   "cell_type": "markdown",
   "id": "26c7e741-728f-43d2-887e-08c6e30214a4",
   "metadata": {},
   "source": [
    "## naming variables\n",
    "We're going to use `snake_case` for naming variables. All lowercase, underscores to separate them\n",
    "\n",
    "## variables and objects\n",
    "\n",
    "**object**: object is a bundle of properties and actions about something specific.\n",
    "\n",
    "Example:\n",
    "\n",
    "- object: data frame\n",
    "- properties: number of rows, names of columns, date created\n",
    "- actions: selection a row, adding a column\n",
    "\n",
    "Variable is a name we give a specific object, and the same object can be referenced by different variables.\n",
    "\n",
    "Example:\n",
    "\n",
    "- The Sun = object\n",
    "- sol = Spanish word for Sun = variable\n",
    "- soleil = french for Sun = variable\n",
    "\n",
    "In practice: we will use object and variable interchangeably. "
   ]
  },
  {
   "cell_type": "markdown",
   "id": "a154ec5c-b1fc-4c70-bd27-fa591f6e4796",
   "metadata": {},
   "source": [
    "# Types\n",
    "\n",
    "Each object in Python has a type.\n",
    "\n",
    "type = what kind of object it is\n",
    "\n",
    "Type is also the **class** of the object\n",
    "\n",
    "We can see the type/class of an object by using the `type` function"
   ]
  },
  {
   "cell_type": "code",
   "execution_count": 5,
   "id": "c417a1fd-87d7-4bcd-bb15-9b4f730ec965",
   "metadata": {
    "tags": []
   },
   "outputs": [
    {
     "name": "stdout",
     "output_type": "stream",
     "text": [
      "[[1 1 2]\n",
      " [3 5 8]]\n"
     ]
    },
    {
     "data": {
      "text/plain": [
       "numpy.ndarray"
      ]
     },
     "execution_count": 5,
     "metadata": {},
     "output_type": "execute_result"
    }
   ],
   "source": [
    "print(a)\n",
    "type(a)"
   ]
  },
  {
   "cell_type": "markdown",
   "id": "03c6a3c7-e7ef-4b66-a894-f43fa3b17bb7",
   "metadata": {},
   "source": [
    "The `numpy.ndarray` is the core object/data type in `numpy`. We can check the type of an entry in the array by indexing:"
   ]
  },
  {
   "cell_type": "code",
   "execution_count": 6,
   "id": "6b1e214a-d887-4f78-b50a-9c46c46f4f7c",
   "metadata": {
    "tags": []
   },
   "outputs": [
    {
     "name": "stdout",
     "output_type": "stream",
     "text": [
      "1\n"
     ]
    },
    {
     "data": {
      "text/plain": [
       "numpy.int64"
      ]
     },
     "execution_count": 6,
     "metadata": {},
     "output_type": "execute_result"
    }
   ],
   "source": [
    "print(a[0,0]) # indexing goes rows, columns\n",
    "type(a[0,0])"
   ]
  },
  {
   "cell_type": "code",
   "execution_count": 7,
   "id": "009dabde-faae-4c0c-aa13-7b81a845a7a9",
   "metadata": {
    "tags": []
   },
   "outputs": [
    {
     "name": "stdout",
     "output_type": "stream",
     "text": [
      "5\n"
     ]
    }
   ],
   "source": [
    "# how to access value 5 in the array\n",
    "print(a[1,1])"
   ]
  },
  {
   "cell_type": "markdown",
   "id": "54b5e622-1d90-421b-ad30-dca8f565e6f5",
   "metadata": {},
   "source": [
    "# Functions\n",
    "\n",
    "`print` is our first example of a Python function\n",
    "\n",
    "A function:\n",
    "- takes a set of **arguments** separated by commas\n",
    "- takes those arguments to produce an **output**\n",
    "\n",
    "argument is also called **parameter**\n",
    "\n",
    "We can ask information about a function by executing `?` followed by function name"
   ]
  },
  {
   "cell_type": "code",
   "execution_count": 8,
   "id": "d1ebd8e2-0a6e-4f7f-a485-59875513b222",
   "metadata": {
    "tags": []
   },
   "outputs": [
    {
     "data": {
      "text/plain": [
       "\u001b[0;31mDocstring:\u001b[0m\n",
       "print(value, ..., sep=' ', end='\\n', file=sys.stdout, flush=False)\n",
       "\n",
       "Prints the values to a stream, or to sys.stdout by default.\n",
       "Optional keyword arguments:\n",
       "file:  a file-like object (stream); defaults to the current sys.stdout.\n",
       "sep:   string inserted between values, default a space.\n",
       "end:   string appended after the last value, default a newline.\n",
       "flush: whether to forcibly flush the stream.\n",
       "\u001b[0;31mType:\u001b[0m      builtin_function_or_method\n"
      ]
     },
     "metadata": {},
     "output_type": "display_data"
    }
   ],
   "source": [
    "?print"
   ]
  },
  {
   "cell_type": "markdown",
   "id": "3eec487e-9d41-4bcd-ab8d-f56e3313716a",
   "metadata": {},
   "source": [
    "Contains:\n",
    "- first line: function showing all of its arguments in ()\n",
    "- short description of what the function does\n",
    "- list of the arguments and a brief explanation of each\n",
    "\n",
    "Different types of arguments inside the parentheses. there are two types:\n",
    "\n",
    "- **non-optional**: arguments you need to specify for the function to do something\n",
    "- **optional**: arguments pre-filled with a value, but we can override them. Optional arguments appear inside the parentheses as \n",
    "\n",
    "`optional argument = default_value`"
   ]
  },
  {
   "cell_type": "code",
   "execution_count": 2,
   "id": "34acd89c-4d01-4e3a-84d2-6ea02f1c91e0",
   "metadata": {
    "tags": []
   },
   "outputs": [
    {
     "name": "stdout",
     "output_type": "stream",
     "text": [
      "changing the \n",
      "default end argument:)"
     ]
    }
   ],
   "source": [
    "print('changing the \\ndefault end argument', end=':)')"
   ]
  },
  {
   "cell_type": "markdown",
   "id": "97e8b9ef-8d3c-4730-905a-1bcc70c073b6",
   "metadata": {},
   "source": [
    "## attributes and methods\n",
    "an object in Python has attributes and methods\n",
    "\n",
    "**attribute**: a property of an object, a piece of information about it\n",
    "**method**: a procedure associated with an object, a function where the main parameter is the object\n",
    "\n",
    "Acess an objects attributes and methods by adding a `.` at the end of the variable's name\n",
    "\n",
    "`variable.variable_method()` or\n",
    "\n",
    "`variable.variable_attribute`\n",
    "\n",
    "Example:\n",
    "\n",
    "Methods and attributes of NumPy arrays:"
   ]
  },
  {
   "cell_type": "code",
   "execution_count": 3,
   "id": "227cccd9-b1e6-44cf-83a1-244bdf99e982",
   "metadata": {
    "tags": []
   },
   "outputs": [],
   "source": [
    "import numpy as np"
   ]
  },
  {
   "cell_type": "code",
   "execution_count": 6,
   "id": "b5d166b8-4e5a-4b1d-952b-41936a3044ab",
   "metadata": {
    "tags": []
   },
   "outputs": [
    {
     "data": {
      "text/plain": [
       "array([[1, 2, 3],\n",
       "       [4, 5, 6],\n",
       "       [7, 8, 9]])"
      ]
     },
     "execution_count": 6,
     "metadata": {},
     "output_type": "execute_result"
    }
   ],
   "source": [
    "# define a 3 x 3 array\n",
    "var = np.array( [[1,2,3], [4,5,6], [7,8,9]] )\n",
    "var"
   ]
  },
  {
   "cell_type": "code",
   "execution_count": 7,
   "id": "03f0a175-76c8-4672-be3b-a3f957ffd4fe",
   "metadata": {
    "tags": []
   },
   "outputs": [
    {
     "data": {
      "text/plain": [
       "(3, 3)"
      ]
     },
     "execution_count": 7,
     "metadata": {},
     "output_type": "execute_result"
    }
   ],
   "source": [
    "# shape: attribute telling the number of elements in each dimension of the array\n",
    "var.shape"
   ]
  },
  {
   "cell_type": "code",
   "execution_count": 8,
   "id": "156f51ec-5fbd-48da-b777-f09116a4a58e",
   "metadata": {
    "tags": []
   },
   "outputs": [
    {
     "data": {
      "text/plain": [
       "tuple"
      ]
     },
     "execution_count": 8,
     "metadata": {},
     "output_type": "execute_result"
    }
   ],
   "source": [
    "type(var.shape)"
   ]
  },
  {
   "cell_type": "code",
   "execution_count": 9,
   "id": "b0e28186-335c-4235-9a94-eb8591ea27aa",
   "metadata": {
    "tags": []
   },
   "outputs": [
    {
     "data": {
      "text/plain": [
       "2"
      ]
     },
     "execution_count": 9,
     "metadata": {},
     "output_type": "execute_result"
    }
   ],
   "source": [
    "# ndim is an attribute holding the number of array dimensions\n",
    "var.ndim"
   ]
  },
  {
   "cell_type": "code",
   "execution_count": 10,
   "id": "88874bd4-a896-44cf-a72b-5674d90d6de2",
   "metadata": {
    "tags": []
   },
   "outputs": [
    {
     "data": {
      "text/plain": [
       "int"
      ]
     },
     "execution_count": 10,
     "metadata": {},
     "output_type": "execute_result"
    }
   ],
   "source": [
    "type(var.ndim)"
   ]
  },
  {
   "cell_type": "markdown",
   "id": "20320af2-1e1a-4f9d-839d-ef0f7dd3e3d1",
   "metadata": {},
   "source": [
    "Notice attributes can have many different datatypes.\n",
    "\n",
    "Examples of methods"
   ]
  },
  {
   "cell_type": "code",
   "execution_count": 11,
   "id": "e4f5021d-5962-4471-82d7-2ee92a667e4f",
   "metadata": {
    "tags": []
   },
   "outputs": [
    {
     "data": {
      "text/plain": [
       "1"
      ]
     },
     "execution_count": 11,
     "metadata": {},
     "output_type": "execute_result"
    }
   ],
   "source": [
    "# min method for array, returns the minimum value in the array\n",
    "var.min()"
   ]
  },
  {
   "cell_type": "code",
   "execution_count": 12,
   "id": "89616b44-c43f-4903-8c82-d5c9332052c0",
   "metadata": {
    "tags": []
   },
   "outputs": [
    {
     "data": {
      "text/plain": [
       "builtin_function_or_method"
      ]
     },
     "execution_count": 12,
     "metadata": {},
     "output_type": "execute_result"
    }
   ],
   "source": [
    "type(var.min)"
   ]
  },
  {
   "cell_type": "markdown",
   "id": "46e246d8-34f8-428d-ae1d-aec55a7bb1d7",
   "metadata": {},
   "source": [
    "# R and Python\n",
    "R:\n",
    "- doesn't use methods within an object\n",
    "- functions are extrinsic to (outside) the objects they are acting on\n",
    "\n",
    "Example: recreate getting the min value in an array\n",
    "\n",
    "In R there'd be two separate items: the variable `var` and separate function `min` that gets `var` as a parameter:\n",
    "\n",
    "```\n",
    "# R code\n",
    "var <- array(c(1,4,7,2,5,8,3,6,9), dim=c(3,3))\n",
    "min(var)\n",
    "```\n",
    "\n",
    "Using pipe operator in tidyverse is closer to the `.` in Python:\n",
    "\n",
    "```\n",
    "var <- array(c(1,4,7,2,5,8,3,6,9, dim=c(3,3))\n",
    "var %>% min()\n",
    "```\n",
    "\n",
    "The pipe is passing `var` to `min()` as its first argument. It's essentially what the period does in Python. "
   ]
  }
 ],
 "metadata": {
  "kernelspec": {
   "display_name": "Anaconda 3 (Base)",
   "language": "python",
   "name": "base"
  },
  "language_info": {
   "codemirror_mode": {
    "name": "ipython",
    "version": 3
   },
   "file_extension": ".py",
   "mimetype": "text/x-python",
   "name": "python",
   "nbconvert_exporter": "python",
   "pygments_lexer": "ipython3",
   "version": "3.9.13"
  }
 },
 "nbformat": 4,
 "nbformat_minor": 5
}
